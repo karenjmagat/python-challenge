{
 "cells": [
  {
   "cell_type": "code",
   "execution_count": 53,
   "id": "0eb15973",
   "metadata": {
    "scrolled": true
   },
   "outputs": [
    {
     "name": "stdout",
     "output_type": "stream",
     "text": [
      "Election Results \n",
      "------------------  \n",
      "Total votes: 369711 \n",
      "------------------  \n",
      "\n",
      "Charles Casper Stockham: 23.05% (85213)\n",
      " Diana DeGette: 73.81% (272892)\n",
      " Raymon Anthony Doane: 3.14% (11606)\n",
      " ------------------  \n",
      "Winner: Diana DeGette\n"
     ]
    }
   ],
   "source": [
    "import csv\n",
    "import os\n",
    "\n",
    "\n",
    "file_to_load = os.path.join(\".\",\"Resources\",\"election_data.csv\")\n",
    "file_to_output = os.path.join(\".\",\"election_analysis.txt\")\n",
    "\n",
    "\n",
    "total_votes = 0\n",
    "\n",
    "candidate_votes = {}\n",
    "candidate_options = []\n",
    "\n",
    "winning_candidate = \" \"\n",
    "winning_count= 0\n",
    "\n",
    "with open(file_to_load) as election_data:\n",
    "    reader = csv.reader(election_data)\n",
    "    \n",
    "    header = next(reader)\n",
    "    \n",
    "    \n",
    "    for row in reader:\n",
    "        total_votes = total_votes + 1\n",
    "        \n",
    "        candidate_name =row[2]\n",
    "        \n",
    "        if candidate_name not in candidate_options:\n",
    "            \n",
    "            candidate_options.append(candidate_name)\n",
    "            \n",
    "            candidate_votes[candidate_name] = 0\n",
    "            \n",
    "        candidate_votes[candidate_name] += 1\n",
    "\n",
    "        \n",
    "with open(file_to_output,\"w\") as txt_file:\n",
    "    election_results = (f\"Election Results \\n\"\n",
    "                    f\"------------------  \\n\"\n",
    "                    f\"Total votes: {total_votes} \\n\"\n",
    "                    f\"------------------  \\n\"\n",
    "                      )\n",
    "    print(election_results)\n",
    "    txt_file.write(election_results)\n",
    "    \n",
    "    for candidate in candidate_votes:\n",
    "        \n",
    "        votes = candidate_votes[candidate]\n",
    "        vote_percentage = float(votes) / float(total_votes) *100\n",
    "        \n",
    "        if(votes > winning_count):\n",
    "            winning_count = votes\n",
    "            winning_candidate = candidate\n",
    "            \n",
    "        voter_outcome = f\"{candidate}: {vote_percentage:.2f}% ({votes})\\n\" \n",
    "        print(voter_outcome, end=\" \")\n",
    "        txt_file.write(voter_outcome)\n",
    "        \n",
    "    winning_candidate_final = (\n",
    "        f\"------------------  \\n\"\n",
    "        f\"Winner: {winning_candidate}\")\n",
    "      \n",
    "    print(winning_candidate_final)\n",
    "    txt_file.write(winning_candidate_final)\n",
    "\n",
    "        \n"
   ]
  },
  {
   "cell_type": "code",
   "execution_count": null,
   "id": "f546c696",
   "metadata": {},
   "outputs": [],
   "source": []
  },
  {
   "cell_type": "code",
   "execution_count": null,
   "id": "a5f55b73",
   "metadata": {},
   "outputs": [],
   "source": []
  }
 ],
 "metadata": {
  "kernelspec": {
   "display_name": "Python 3 (ipykernel)",
   "language": "python",
   "name": "python3"
  },
  "language_info": {
   "codemirror_mode": {
    "name": "ipython",
    "version": 3
   },
   "file_extension": ".py",
   "mimetype": "text/x-python",
   "name": "python",
   "nbconvert_exporter": "python",
   "pygments_lexer": "ipython3",
   "version": "3.11.4"
  }
 },
 "nbformat": 4,
 "nbformat_minor": 5
}
